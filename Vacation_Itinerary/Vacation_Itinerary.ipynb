{
 "cells": [
  {
   "cell_type": "markdown",
   "metadata": {},
   "source": [
    "## Deliverable 3. Create a Travel Itinerary Map."
   ]
  },
  {
   "cell_type": "code",
   "execution_count": 1,
   "metadata": {},
   "outputs": [],
   "source": [
    "# Dependencies and Setup\n",
    "import pandas as pd\n",
    "import requests\n",
    "import gmaps\n",
    "import sys\n",
    "sys.path.append(\"../\")\n",
    "# Import API key\n",
    "from config import g_key\n",
    "\n",
    "# Configure gmaps\n",
    "gmaps.configure(api_key=g_key)"
   ]
  },
  {
   "cell_type": "code",
   "execution_count": 2,
   "metadata": {},
   "outputs": [
    {
     "output_type": "execute_result",
     "data": {
      "text/plain": [
       "   City_ID         City Country  Max Temp Current Description    Lat     Lng  \\\n",
       "0        4    Sarangani      PH     82.71          light rain   5.40  125.46   \n",
       "1        6   Rio Branco      BR     77.00         shower rain  -9.97  -67.81   \n",
       "2        8  Kloulklubed      PW     83.19     overcast clouds   7.04  134.26   \n",
       "3       10      Rikitea      PF     76.55          light rain -23.12 -134.97   \n",
       "4       23      Camocim      BR     86.70     overcast clouds  -2.90  -40.84   \n",
       "\n",
       "                Hotel Name  \n",
       "0          Ballistic Islet  \n",
       "1         João Paulo Hotel  \n",
       "2  Storyboard Beach Resort  \n",
       "3           Pension Maro'i  \n",
       "4       Hotel Ilha do Amor  "
      ],
      "text/html": "<div>\n<style scoped>\n    .dataframe tbody tr th:only-of-type {\n        vertical-align: middle;\n    }\n\n    .dataframe tbody tr th {\n        vertical-align: top;\n    }\n\n    .dataframe thead th {\n        text-align: right;\n    }\n</style>\n<table border=\"1\" class=\"dataframe\">\n  <thead>\n    <tr style=\"text-align: right;\">\n      <th></th>\n      <th>City_ID</th>\n      <th>City</th>\n      <th>Country</th>\n      <th>Max Temp</th>\n      <th>Current Description</th>\n      <th>Lat</th>\n      <th>Lng</th>\n      <th>Hotel Name</th>\n    </tr>\n  </thead>\n  <tbody>\n    <tr>\n      <th>0</th>\n      <td>4</td>\n      <td>Sarangani</td>\n      <td>PH</td>\n      <td>82.71</td>\n      <td>light rain</td>\n      <td>5.40</td>\n      <td>125.46</td>\n      <td>Ballistic Islet</td>\n    </tr>\n    <tr>\n      <th>1</th>\n      <td>6</td>\n      <td>Rio Branco</td>\n      <td>BR</td>\n      <td>77.00</td>\n      <td>shower rain</td>\n      <td>-9.97</td>\n      <td>-67.81</td>\n      <td>João Paulo Hotel</td>\n    </tr>\n    <tr>\n      <th>2</th>\n      <td>8</td>\n      <td>Kloulklubed</td>\n      <td>PW</td>\n      <td>83.19</td>\n      <td>overcast clouds</td>\n      <td>7.04</td>\n      <td>134.26</td>\n      <td>Storyboard Beach Resort</td>\n    </tr>\n    <tr>\n      <th>3</th>\n      <td>10</td>\n      <td>Rikitea</td>\n      <td>PF</td>\n      <td>76.55</td>\n      <td>light rain</td>\n      <td>-23.12</td>\n      <td>-134.97</td>\n      <td>Pension Maro'i</td>\n    </tr>\n    <tr>\n      <th>4</th>\n      <td>23</td>\n      <td>Camocim</td>\n      <td>BR</td>\n      <td>86.70</td>\n      <td>overcast clouds</td>\n      <td>-2.90</td>\n      <td>-40.84</td>\n      <td>Hotel Ilha do Amor</td>\n    </tr>\n  </tbody>\n</table>\n</div>"
     },
     "metadata": {},
     "execution_count": 2
    }
   ],
   "source": [
    "# 1. Read the WeatherPy_vacation.csv into a DataFrame.\n",
    "vacation_df = pd.read_csv(\"../Vacation_Search/WeatherPy_vacation.csv\")\n",
    "vacation_df.head()"
   ]
  },
  {
   "cell_type": "code",
   "execution_count": 3,
   "metadata": {},
   "outputs": [],
   "source": [
    "# 2. Using the template add the city name, the country code, the weather description and maximum temperature for the city.\n",
    "info_box_template = \"\"\"\n",
    "<dl>\n",
    "<dt><b>Hotel Name</b></dt><dd>{Hotel Name}</dd>\n",
    "<dt><b>City</b></dt><dd>{City}</dd>\n",
    "<dt><b>Country</b></dt><dd>{Country}</dd>\n",
    "<dt><b>Current Weather</b></dt><dd>{Current Description} and {Max Temp} °F</dd>\n",
    "</dl>\n",
    "\"\"\"\n",
    "\n",
    "# 3a. Get the data from each row and add it to the formatting template and store the data in a list.\n",
    "hotel_info = [info_box_template.format(**row) for index, row in vacation_df.iterrows()]\n",
    "\n",
    "# 3b. Get the latitude and longitude from each row and store in a new DataFrame.\n",
    "locations = vacation_df[[\"Lat\", \"Lng\"]]"
   ]
  },
  {
   "cell_type": "code",
   "execution_count": 4,
   "metadata": {},
   "outputs": [
    {
     "output_type": "display_data",
     "data": {
      "text/plain": "Figure(layout=FigureLayout(height='420px'))",
      "application/vnd.jupyter.widget-view+json": {
       "version_major": 2,
       "version_minor": 0,
       "model_id": "288ef6f564054331ae373fac0a0e5abb"
      }
     },
     "metadata": {}
    }
   ],
   "source": [
    "# 4a. Add a marker layer for each city to the map.\n",
    "fig = gmaps.figure(center=(30.0, 31.0), zoom_level=1.5)\n",
    "marker_layer = gmaps.marker_layer(locations, info_box_content=hotel_info)\n",
    "fig.add_layer(marker_layer)\n",
    "# 4b. Display the figure\n",
    "fig"
   ]
  },
  {
   "cell_type": "code",
   "execution_count": 5,
   "metadata": {},
   "outputs": [],
   "source": [
    "# From the map above pick 4 cities and create a vacation itinerary route to travel between the four cities. \n",
    "# 5. Create DataFrames for each city by filtering the 'vacation_df' using the loc method. \n",
    "# Hint: The starting and ending city should be the same city.\n",
    "\n",
    "vacation_start = vacation_df.loc[(vacation_df[\"City\"] == \"Ilhabela\") \n",
    "                                    & (vacation_df[\"Country\"] == \"BR\")]\n",
    "vacation_end = vacation_df.loc[(vacation_df[\"City\"] == \"Ilhabela\") \n",
    "                                    & (vacation_df[\"Country\"] == \"BR\")]\n",
    "vacation_stop1 = vacation_df.loc[(vacation_df[\"City\"] == \"Barra Bonita\") \n",
    "                                    & (vacation_df[\"Country\"] == \"BR\")]\n",
    "vacation_stop2 = vacation_df.loc[(vacation_df[\"City\"] == \"Castro\") \n",
    "                                    & (vacation_df[\"Country\"] == \"BR\")] \n",
    "vacation_stop3 = vacation_df.loc[(vacation_df[\"City\"] == \"Iguape\") \n",
    "                                    & (vacation_df[\"Country\"] == \"BR\")] "
   ]
  },
  {
   "cell_type": "code",
   "execution_count": 6,
   "metadata": {},
   "outputs": [],
   "source": [
    "# 6. Get the latitude-longitude pairs as tuples from each city DataFrame using the to_numpy function and list indexing.\n",
    "start = (float(vacation_start[\"Lat\"]), float(vacation_start[\"Lng\"]))\n",
    "end = (float(vacation_end[\"Lat\"]), float(vacation_end[\"Lng\"]))\n",
    "stop1 = (float(vacation_stop1[\"Lat\"]), float(vacation_stop1[\"Lng\"]))\n",
    "stop2 = (float(vacation_stop2[\"Lat\"]), float(vacation_stop2[\"Lng\"]))\n",
    "stop3 = (float(vacation_stop3[\"Lat\"]), float(vacation_stop3[\"Lng\"]))"
   ]
  },
  {
   "cell_type": "code",
   "execution_count": 7,
   "metadata": {},
   "outputs": [
    {
     "output_type": "stream",
     "name": "stdout",
     "text": [
      "(-23.78, -45.36) (-23.78, -45.36) (-22.49, -48.56) (-24.79, -50.01) (-24.71, -47.56)\n"
     ]
    }
   ],
   "source": [
    "print(start, end, stop1, stop2, stop3)"
   ]
  },
  {
   "cell_type": "code",
   "execution_count": 8,
   "metadata": {
    "scrolled": true
   },
   "outputs": [
    {
     "output_type": "display_data",
     "data": {
      "text/plain": "Figure(layout=FigureLayout(height='420px'))",
      "application/vnd.jupyter.widget-view+json": {
       "version_major": 2,
       "version_minor": 0,
       "model_id": "6879bcab95ff4d0baaa6d644a2b3d185"
      }
     },
     "metadata": {}
    }
   ],
   "source": [
    "# 7. Create a direction layer map using the start and end latitude-longitude pairs,\n",
    "# and stop1, stop2, and stop3 as the waypoints. The travel_mode should be \"DRIVING\", \"BICYCLING\", or \"WALKING\".\n",
    "import gmaps.datasets\n",
    "fig = gmaps.figure()\n",
    "round_trip = gmaps.directions_layer(\n",
    "        start, end, waypoints=[stop1, stop2, stop3],\n",
    "        travel_mode='DRIVING')\n",
    "fig.add_layer(round_trip)\n",
    "fig\n"
   ]
  },
  {
   "cell_type": "code",
   "execution_count": 9,
   "metadata": {},
   "outputs": [
    {
     "output_type": "execute_result",
     "data": {
      "text/plain": [
       "   City_ID          City Country  Max Temp Current Description    Lat    Lng  \\\n",
       "0      654      Ilhabela      BR     78.80    scattered clouds -23.78 -45.36   \n",
       "1      573  Barra Bonita      BR     89.22       moderate rain -22.49 -48.56   \n",
       "2      205        Castro      BR     75.51       broken clouds -24.79 -50.01   \n",
       "3      444        Iguape      BR     79.12     overcast clouds -24.71 -47.56   \n",
       "\n",
       "                             Hotel Name  \n",
       "0                       Ilha Flat Hotel  \n",
       "1                       Hotel Beira Rio  \n",
       "2                        CHACARA BAILLY  \n",
       "3  Hotel Pousada Nossa Senhora do Carmo  "
      ],
      "text/html": "<div>\n<style scoped>\n    .dataframe tbody tr th:only-of-type {\n        vertical-align: middle;\n    }\n\n    .dataframe tbody tr th {\n        vertical-align: top;\n    }\n\n    .dataframe thead th {\n        text-align: right;\n    }\n</style>\n<table border=\"1\" class=\"dataframe\">\n  <thead>\n    <tr style=\"text-align: right;\">\n      <th></th>\n      <th>City_ID</th>\n      <th>City</th>\n      <th>Country</th>\n      <th>Max Temp</th>\n      <th>Current Description</th>\n      <th>Lat</th>\n      <th>Lng</th>\n      <th>Hotel Name</th>\n    </tr>\n  </thead>\n  <tbody>\n    <tr>\n      <th>0</th>\n      <td>654</td>\n      <td>Ilhabela</td>\n      <td>BR</td>\n      <td>78.80</td>\n      <td>scattered clouds</td>\n      <td>-23.78</td>\n      <td>-45.36</td>\n      <td>Ilha Flat Hotel</td>\n    </tr>\n    <tr>\n      <th>1</th>\n      <td>573</td>\n      <td>Barra Bonita</td>\n      <td>BR</td>\n      <td>89.22</td>\n      <td>moderate rain</td>\n      <td>-22.49</td>\n      <td>-48.56</td>\n      <td>Hotel Beira Rio</td>\n    </tr>\n    <tr>\n      <th>2</th>\n      <td>205</td>\n      <td>Castro</td>\n      <td>BR</td>\n      <td>75.51</td>\n      <td>broken clouds</td>\n      <td>-24.79</td>\n      <td>-50.01</td>\n      <td>CHACARA BAILLY</td>\n    </tr>\n    <tr>\n      <th>3</th>\n      <td>444</td>\n      <td>Iguape</td>\n      <td>BR</td>\n      <td>79.12</td>\n      <td>overcast clouds</td>\n      <td>-24.71</td>\n      <td>-47.56</td>\n      <td>Hotel Pousada Nossa Senhora do Carmo</td>\n    </tr>\n  </tbody>\n</table>\n</div>"
     },
     "metadata": {},
     "execution_count": 9
    }
   ],
   "source": [
    "# 8. To create a marker layer map between the four cities.\n",
    "#  Combine the four city DataFrames into one DataFrame using the concat() function.\n",
    "itinerary_df = pd.concat([vacation_start, vacation_stop1, vacation_stop2, vacation_stop3],ignore_index=True)\n",
    "itinerary_df"
   ]
  },
  {
   "cell_type": "code",
   "execution_count": 10,
   "metadata": {},
   "outputs": [],
   "source": [
    "# 9 Using the template add city name, the country code, the weather description and maximum temperature for the city. \n",
    "info_box_template = \"\"\"\n",
    "<dl>\n",
    "<dt><b>Hotel Name</b></dt><dd>{Hotel Name}</dd>\n",
    "<dt><b>City</b></dt><dd>{City}</dd>\n",
    "<dt><b>Country</b></dt><dd>{Country}</dd>\n",
    "<dt><b>Current Weather</b></dt><dd>{Current Description} and {Max Temp} °F</dd>\n",
    "</dl>\n",
    "\"\"\"\n",
    "\n",
    "# 10a Get the data from each row and add it to the formatting template and store the data in a list.\n",
    "hotel_info = [info_box_template.format(**row) for index, row in itinerary_df.iterrows()]\n",
    "\n",
    "# 10b. Get the latitude and longitude from each row and store in a new DataFrame.\n",
    "locations = itinerary_df[[\"Lat\", \"Lng\"]]"
   ]
  },
  {
   "cell_type": "code",
   "execution_count": 11,
   "metadata": {},
   "outputs": [
    {
     "output_type": "display_data",
     "data": {
      "text/plain": "Figure(layout=FigureLayout(height='420px'))",
      "application/vnd.jupyter.widget-view+json": {
       "version_major": 2,
       "version_minor": 0,
       "model_id": "5d0670c99b7b414f9f998dc7c8ccdcb8"
      }
     },
     "metadata": {}
    }
   ],
   "source": [
    "# 11a. Add a marker layer for each city to the map.\n",
    "fig = gmaps.figure()\n",
    "marker_layer = gmaps.marker_layer(locations, info_box_content=hotel_info)\n",
    "fig.add_layer(marker_layer)\n",
    "# 11b. Display the figure\n",
    "fig"
   ]
  },
  {
   "cell_type": "code",
   "execution_count": null,
   "metadata": {},
   "outputs": [],
   "source": []
  }
 ],
 "metadata": {
  "kernelspec": {
   "display_name": "PythonData",
   "language": "python",
   "name": "pythondata"
  },
  "language_info": {
   "codemirror_mode": {
    "name": "ipython",
    "version": 3
   },
   "file_extension": ".py",
   "mimetype": "text/x-python",
   "name": "python",
   "nbconvert_exporter": "python",
   "pygments_lexer": "ipython3",
   "version": "3.7.7-final"
  },
  "latex_envs": {
   "LaTeX_envs_menu_present": true,
   "autoclose": false,
   "autocomplete": true,
   "bibliofile": "biblio.bib",
   "cite_by": "apalike",
   "current_citInitial": 1,
   "eqLabelWithNumbers": true,
   "eqNumInitial": 1,
   "hotkeys": {
    "equation": "Ctrl-E",
    "itemize": "Ctrl-I"
   },
   "labels_anchors": false,
   "latex_user_defs": false,
   "report_style_numbering": false,
   "user_envs_cfg": false
  }
 },
 "nbformat": 4,
 "nbformat_minor": 2
}