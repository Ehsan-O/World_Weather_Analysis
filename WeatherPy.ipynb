{
 "metadata": {
  "language_info": {
   "codemirror_mode": {
    "name": "ipython",
    "version": 3
   },
   "file_extension": ".py",
   "mimetype": "text/x-python",
   "name": "python",
   "nbconvert_exporter": "python",
   "pygments_lexer": "ipython3",
   "version": "3.7.7-final"
  },
  "orig_nbformat": 2,
  "kernelspec": {
   "name": "pythondata",
   "display_name": "PythonData"
  }
 },
 "nbformat": 4,
 "nbformat_minor": 2,
 "cells": [
  {
   "cell_type": "code",
   "execution_count": 1,
   "metadata": {},
   "outputs": [],
   "source": [
    "# Import the dependencies.\n",
    "import pandas as pd\n",
    "import matplotlib.pyplot as plt\n",
    "import numpy as np"
   ]
  },
  {
   "cell_type": "code",
   "execution_count": 2,
   "metadata": {},
   "outputs": [],
   "source": [
    "# Create a set of random latitude and longitude combinations.\n",
    "lats = np.random.uniform(low=-90.000, high=90.000, size=1500)\n",
    "lngs = np.random.uniform(low=-180.000, high=180.000, size=1500)\n",
    "lat_lngs = zip(lats, lngs)\n"
   ]
  },
  {
   "cell_type": "code",
   "execution_count": 3,
   "metadata": {},
   "outputs": [],
   "source": [
    "# Add the latitudes and longitudes to a list.\n",
    "coordinates = list(lat_lngs)"
   ]
  },
  {
   "cell_type": "code",
   "execution_count": 4,
   "metadata": {},
   "outputs": [],
   "source": [
    "# Use the citipy module to determine city based on latitude and longitude.\n",
    "from citipy import citipy"
   ]
  },
  {
   "cell_type": "code",
   "execution_count": 5,
   "metadata": {},
   "outputs": [
    {
     "output_type": "execute_result",
     "data": {
      "text/plain": [
       "617"
      ]
     },
     "metadata": {},
     "execution_count": 5
    }
   ],
   "source": [
    "# Create a list for holding the cities.\n",
    "cities = []\n",
    "# Identify the nearest city for each latitude and longitude combination.\n",
    "for coordinate in coordinates:\n",
    "    city = citipy.nearest_city(coordinate[0], coordinate[1]).city_name\n",
    "\n",
    "    # If the city is unique, then we will add it to the cities list.\n",
    "    if city not in cities:\n",
    "        cities.append(city)\n",
    "# Print the city count to confirm sufficient count.\n",
    "len(cities)"
   ]
  },
  {
   "cell_type": "code",
   "execution_count": 6,
   "metadata": {},
   "outputs": [],
   "source": [
    "# Import the requests library.\n",
    "import requests\n",
    "# Import the API key.\n",
    "from config import weather_api_key\n",
    "# Import the datetime module from the datetime library.\n",
    "from datetime import datetime"
   ]
  },
  {
   "cell_type": "code",
   "execution_count": 15,
   "metadata": {},
   "outputs": [],
   "source": [
    "url = \"http://api.openweathermap.org/data/2.5/weather?units=Imperial&APPID=\" + weather_api_key"
   ]
  },
  {
   "cell_type": "code",
   "execution_count": 7,
   "metadata": {},
   "outputs": [
    {
     "output_type": "stream",
     "name": "stdout",
     "text": [
      "Beginning Data Retrieval     \n-----------------------------\n"
     ]
    }
   ],
   "source": [
    "city_data = []\n",
    "# Print the beginning of the logging.\n",
    "print(\"Beginning Data Retrieval     \")\n",
    "print(\"-----------------------------\")\n",
    "\n",
    "# Create counters.\n",
    "record_count = 1\n",
    "set_count = 1"
   ]
  },
  {
   "cell_type": "code",
   "execution_count": 16,
   "metadata": {},
   "outputs": [
    {
     "output_type": "execute_result",
     "data": {
      "text/plain": [
       "'http://api.openweathermap.org/data/2.5/weather?units=Imperial&APPID=dcc55cfe9de43e8a55ca551162829c10&q=bay roberts'"
      ]
     },
     "metadata": {},
     "execution_count": 16
    }
   ],
   "source": [
    "city_url = url + \"&q=\" + cities[0]\n",
    "city_url"
   ]
  },
  {
   "cell_type": "code",
   "execution_count": 17,
   "metadata": {
    "tags": [
     "outputPrepend"
    ]
   },
   "outputs": [
    {
     "output_type": "stream",
     "name": "stdout",
     "text": [
      "a55ca551162829c10&q=evensk\nhttp://api.openweathermap.org/data/2.5/weather?units=Imperial&APPID=dcc55cfe9de43e8a55ca551162829c10&q=havre-saint-pierre\nhttp://api.openweathermap.org/data/2.5/weather?units=Imperial&APPID=dcc55cfe9de43e8a55ca551162829c10&q=riyadh\nhttp://api.openweathermap.org/data/2.5/weather?units=Imperial&APPID=dcc55cfe9de43e8a55ca551162829c10&q=zhigansk\nhttp://api.openweathermap.org/data/2.5/weather?units=Imperial&APPID=dcc55cfe9de43e8a55ca551162829c10&q=antalaha\nhttp://api.openweathermap.org/data/2.5/weather?units=Imperial&APPID=dcc55cfe9de43e8a55ca551162829c10&q=coahuayana\nhttp://api.openweathermap.org/data/2.5/weather?units=Imperial&APPID=dcc55cfe9de43e8a55ca551162829c10&q=oistins\nhttp://api.openweathermap.org/data/2.5/weather?units=Imperial&APPID=dcc55cfe9de43e8a55ca551162829c10&q=calvia\nhttp://api.openweathermap.org/data/2.5/weather?units=Imperial&APPID=dcc55cfe9de43e8a55ca551162829c10&q=belaya gora\nhttp://api.openweathermap.org/data/2.5/weather?units=Imperial&APPID=dcc55cfe9de43e8a55ca551162829c10&q=camrose\nhttp://api.openweathermap.org/data/2.5/weather?units=Imperial&APPID=dcc55cfe9de43e8a55ca551162829c10&q=sibolga\nhttp://api.openweathermap.org/data/2.5/weather?units=Imperial&APPID=dcc55cfe9de43e8a55ca551162829c10&q=rorvik\nhttp://api.openweathermap.org/data/2.5/weather?units=Imperial&APPID=dcc55cfe9de43e8a55ca551162829c10&q=emerald\nhttp://api.openweathermap.org/data/2.5/weather?units=Imperial&APPID=dcc55cfe9de43e8a55ca551162829c10&q=gamba\nhttp://api.openweathermap.org/data/2.5/weather?units=Imperial&APPID=dcc55cfe9de43e8a55ca551162829c10&q=port shepstone\nhttp://api.openweathermap.org/data/2.5/weather?units=Imperial&APPID=dcc55cfe9de43e8a55ca551162829c10&q=raucesti\nhttp://api.openweathermap.org/data/2.5/weather?units=Imperial&APPID=dcc55cfe9de43e8a55ca551162829c10&q=haines junction\nhttp://api.openweathermap.org/data/2.5/weather?units=Imperial&APPID=dcc55cfe9de43e8a55ca551162829c10&q=bubaque\nhttp://api.openweathermap.org/data/2.5/weather?units=Imperial&APPID=dcc55cfe9de43e8a55ca551162829c10&q=viedma\nhttp://api.openweathermap.org/data/2.5/weather?units=Imperial&APPID=dcc55cfe9de43e8a55ca551162829c10&q=manay\nhttp://api.openweathermap.org/data/2.5/weather?units=Imperial&APPID=dcc55cfe9de43e8a55ca551162829c10&q=maragogi\nhttp://api.openweathermap.org/data/2.5/weather?units=Imperial&APPID=dcc55cfe9de43e8a55ca551162829c10&q=hambantota\nhttp://api.openweathermap.org/data/2.5/weather?units=Imperial&APPID=dcc55cfe9de43e8a55ca551162829c10&q=kruisfontein\nhttp://api.openweathermap.org/data/2.5/weather?units=Imperial&APPID=dcc55cfe9de43e8a55ca551162829c10&q=zeya\nhttp://api.openweathermap.org/data/2.5/weather?units=Imperial&APPID=dcc55cfe9de43e8a55ca551162829c10&q=harper\nhttp://api.openweathermap.org/data/2.5/weather?units=Imperial&APPID=dcc55cfe9de43e8a55ca551162829c10&q=goba\nhttp://api.openweathermap.org/data/2.5/weather?units=Imperial&APPID=dcc55cfe9de43e8a55ca551162829c10&q=nowy targ\nhttp://api.openweathermap.org/data/2.5/weather?units=Imperial&APPID=dcc55cfe9de43e8a55ca551162829c10&q=kuusamo\nhttp://api.openweathermap.org/data/2.5/weather?units=Imperial&APPID=dcc55cfe9de43e8a55ca551162829c10&q=kuala lipis\nhttp://api.openweathermap.org/data/2.5/weather?units=Imperial&APPID=dcc55cfe9de43e8a55ca551162829c10&q=solikamsk\nhttp://api.openweathermap.org/data/2.5/weather?units=Imperial&APPID=dcc55cfe9de43e8a55ca551162829c10&q=yulara\nhttp://api.openweathermap.org/data/2.5/weather?units=Imperial&APPID=dcc55cfe9de43e8a55ca551162829c10&q=kulhudhuffushi\nhttp://api.openweathermap.org/data/2.5/weather?units=Imperial&APPID=dcc55cfe9de43e8a55ca551162829c10&q=naifaru\nhttp://api.openweathermap.org/data/2.5/weather?units=Imperial&APPID=dcc55cfe9de43e8a55ca551162829c10&q=beisfjord\nhttp://api.openweathermap.org/data/2.5/weather?units=Imperial&APPID=dcc55cfe9de43e8a55ca551162829c10&q=hailar\nhttp://api.openweathermap.org/data/2.5/weather?units=Imperial&APPID=dcc55cfe9de43e8a55ca551162829c10&q=boguchany\nhttp://api.openweathermap.org/data/2.5/weather?units=Imperial&APPID=dcc55cfe9de43e8a55ca551162829c10&q=lakselv\nhttp://api.openweathermap.org/data/2.5/weather?units=Imperial&APPID=dcc55cfe9de43e8a55ca551162829c10&q=kamaishi\nhttp://api.openweathermap.org/data/2.5/weather?units=Imperial&APPID=dcc55cfe9de43e8a55ca551162829c10&q=mahadday weyne\nhttp://api.openweathermap.org/data/2.5/weather?units=Imperial&APPID=dcc55cfe9de43e8a55ca551162829c10&q=uyuni\nhttp://api.openweathermap.org/data/2.5/weather?units=Imperial&APPID=dcc55cfe9de43e8a55ca551162829c10&q=katobu\nhttp://api.openweathermap.org/data/2.5/weather?units=Imperial&APPID=dcc55cfe9de43e8a55ca551162829c10&q=anzhero-sudzhensk\nhttp://api.openweathermap.org/data/2.5/weather?units=Imperial&APPID=dcc55cfe9de43e8a55ca551162829c10&q=khash\nhttp://api.openweathermap.org/data/2.5/weather?units=Imperial&APPID=dcc55cfe9de43e8a55ca551162829c10&q=tsaratanana\nhttp://api.openweathermap.org/data/2.5/weather?units=Imperial&APPID=dcc55cfe9de43e8a55ca551162829c10&q=da nang\nhttp://api.openweathermap.org/data/2.5/weather?units=Imperial&APPID=dcc55cfe9de43e8a55ca551162829c10&q=lata\nhttp://api.openweathermap.org/data/2.5/weather?units=Imperial&APPID=dcc55cfe9de43e8a55ca551162829c10&q=uige\nhttp://api.openweathermap.org/data/2.5/weather?units=Imperial&APPID=dcc55cfe9de43e8a55ca551162829c10&q=ocos\nhttp://api.openweathermap.org/data/2.5/weather?units=Imperial&APPID=dcc55cfe9de43e8a55ca551162829c10&q=brae\nhttp://api.openweathermap.org/data/2.5/weather?units=Imperial&APPID=dcc55cfe9de43e8a55ca551162829c10&q=omsukchan\nhttp://api.openweathermap.org/data/2.5/weather?units=Imperial&APPID=dcc55cfe9de43e8a55ca551162829c10&q=szczytno\nhttp://api.openweathermap.org/data/2.5/weather?units=Imperial&APPID=dcc55cfe9de43e8a55ca551162829c10&q=chissamba\nhttp://api.openweathermap.org/data/2.5/weather?units=Imperial&APPID=dcc55cfe9de43e8a55ca551162829c10&q=vibo valentia\nhttp://api.openweathermap.org/data/2.5/weather?units=Imperial&APPID=dcc55cfe9de43e8a55ca551162829c10&q=hami\nhttp://api.openweathermap.org/data/2.5/weather?units=Imperial&APPID=dcc55cfe9de43e8a55ca551162829c10&q=balod\nhttp://api.openweathermap.org/data/2.5/weather?units=Imperial&APPID=dcc55cfe9de43e8a55ca551162829c10&q=cap malheureux\nhttp://api.openweathermap.org/data/2.5/weather?units=Imperial&APPID=dcc55cfe9de43e8a55ca551162829c10&q=snasa\nhttp://api.openweathermap.org/data/2.5/weather?units=Imperial&APPID=dcc55cfe9de43e8a55ca551162829c10&q=hirara\nhttp://api.openweathermap.org/data/2.5/weather?units=Imperial&APPID=dcc55cfe9de43e8a55ca551162829c10&q=harrison\nhttp://api.openweathermap.org/data/2.5/weather?units=Imperial&APPID=dcc55cfe9de43e8a55ca551162829c10&q=morgan city\nhttp://api.openweathermap.org/data/2.5/weather?units=Imperial&APPID=dcc55cfe9de43e8a55ca551162829c10&q=bushehr\nhttp://api.openweathermap.org/data/2.5/weather?units=Imperial&APPID=dcc55cfe9de43e8a55ca551162829c10&q=cabedelo\nhttp://api.openweathermap.org/data/2.5/weather?units=Imperial&APPID=dcc55cfe9de43e8a55ca551162829c10&q=labuhan\nhttp://api.openweathermap.org/data/2.5/weather?units=Imperial&APPID=dcc55cfe9de43e8a55ca551162829c10&q=taltal\nhttp://api.openweathermap.org/data/2.5/weather?units=Imperial&APPID=dcc55cfe9de43e8a55ca551162829c10&q=gasa\nhttp://api.openweathermap.org/data/2.5/weather?units=Imperial&APPID=dcc55cfe9de43e8a55ca551162829c10&q=prudentopolis\nhttp://api.openweathermap.org/data/2.5/weather?units=Imperial&APPID=dcc55cfe9de43e8a55ca551162829c10&q=ullapool\nhttp://api.openweathermap.org/data/2.5/weather?units=Imperial&APPID=dcc55cfe9de43e8a55ca551162829c10&q=huicungo\nhttp://api.openweathermap.org/data/2.5/weather?units=Imperial&APPID=dcc55cfe9de43e8a55ca551162829c10&q=varkkallai\nhttp://api.openweathermap.org/data/2.5/weather?units=Imperial&APPID=dcc55cfe9de43e8a55ca551162829c10&q=sharon\nhttp://api.openweathermap.org/data/2.5/weather?units=Imperial&APPID=dcc55cfe9de43e8a55ca551162829c10&q=magaria\nhttp://api.openweathermap.org/data/2.5/weather?units=Imperial&APPID=dcc55cfe9de43e8a55ca551162829c10&q=bamako\nhttp://api.openweathermap.org/data/2.5/weather?units=Imperial&APPID=dcc55cfe9de43e8a55ca551162829c10&q=naryan-mar\nhttp://api.openweathermap.org/data/2.5/weather?units=Imperial&APPID=dcc55cfe9de43e8a55ca551162829c10&q=polson\nhttp://api.openweathermap.org/data/2.5/weather?units=Imperial&APPID=dcc55cfe9de43e8a55ca551162829c10&q=torbat-e jam\nhttp://api.openweathermap.org/data/2.5/weather?units=Imperial&APPID=dcc55cfe9de43e8a55ca551162829c10&q=rassvet\nhttp://api.openweathermap.org/data/2.5/weather?units=Imperial&APPID=dcc55cfe9de43e8a55ca551162829c10&q=goksun\nhttp://api.openweathermap.org/data/2.5/weather?units=Imperial&APPID=dcc55cfe9de43e8a55ca551162829c10&q=lhuntshi\nhttp://api.openweathermap.org/data/2.5/weather?units=Imperial&APPID=dcc55cfe9de43e8a55ca551162829c10&q=adrar\nhttp://api.openweathermap.org/data/2.5/weather?units=Imperial&APPID=dcc55cfe9de43e8a55ca551162829c10&q=batemans bay\nhttp://api.openweathermap.org/data/2.5/weather?units=Imperial&APPID=dcc55cfe9de43e8a55ca551162829c10&q=suntar\nhttp://api.openweathermap.org/data/2.5/weather?units=Imperial&APPID=dcc55cfe9de43e8a55ca551162829c10&q=francisco sa\nhttp://api.openweathermap.org/data/2.5/weather?units=Imperial&APPID=dcc55cfe9de43e8a55ca551162829c10&q=alghero\nhttp://api.openweathermap.org/data/2.5/weather?units=Imperial&APPID=dcc55cfe9de43e8a55ca551162829c10&q=tazovskiy\nhttp://api.openweathermap.org/data/2.5/weather?units=Imperial&APPID=dcc55cfe9de43e8a55ca551162829c10&q=saint-francois\nhttp://api.openweathermap.org/data/2.5/weather?units=Imperial&APPID=dcc55cfe9de43e8a55ca551162829c10&q=ternate\nhttp://api.openweathermap.org/data/2.5/weather?units=Imperial&APPID=dcc55cfe9de43e8a55ca551162829c10&q=noboribetsu\nhttp://api.openweathermap.org/data/2.5/weather?units=Imperial&APPID=dcc55cfe9de43e8a55ca551162829c10&q=horsham\nhttp://api.openweathermap.org/data/2.5/weather?units=Imperial&APPID=dcc55cfe9de43e8a55ca551162829c10&q=eidsvag\nhttp://api.openweathermap.org/data/2.5/weather?units=Imperial&APPID=dcc55cfe9de43e8a55ca551162829c10&q=batagay\nhttp://api.openweathermap.org/data/2.5/weather?units=Imperial&APPID=dcc55cfe9de43e8a55ca551162829c10&q=eldikan\nhttp://api.openweathermap.org/data/2.5/weather?units=Imperial&APPID=dcc55cfe9de43e8a55ca551162829c10&q=saint-pierre\nhttp://api.openweathermap.org/data/2.5/weather?units=Imperial&APPID=dcc55cfe9de43e8a55ca551162829c10&q=bakal\nhttp://api.openweathermap.org/data/2.5/weather?units=Imperial&APPID=dcc55cfe9de43e8a55ca551162829c10&q=vostok\nhttp://api.openweathermap.org/data/2.5/weather?units=Imperial&APPID=dcc55cfe9de43e8a55ca551162829c10&q=guhagar\nhttp://api.openweathermap.org/data/2.5/weather?units=Imperial&APPID=dcc55cfe9de43e8a55ca551162829c10&q=lincoln\nhttp://api.openweathermap.org/data/2.5/weather?units=Imperial&APPID=dcc55cfe9de43e8a55ca551162829c10&q=mason city\nhttp://api.openweathermap.org/data/2.5/weather?units=Imperial&APPID=dcc55cfe9de43e8a55ca551162829c10&q=henties bay\nhttp://api.openweathermap.org/data/2.5/weather?units=Imperial&APPID=dcc55cfe9de43e8a55ca551162829c10&q=lorengau\nhttp://api.openweathermap.org/data/2.5/weather?units=Imperial&APPID=dcc55cfe9de43e8a55ca551162829c10&q=oxilithos\nhttp://api.openweathermap.org/data/2.5/weather?units=Imperial&APPID=dcc55cfe9de43e8a55ca551162829c10&q=neiafu\nhttp://api.openweathermap.org/data/2.5/weather?units=Imperial&APPID=dcc55cfe9de43e8a55ca551162829c10&q=warqla\nhttp://api.openweathermap.org/data/2.5/weather?units=Imperial&APPID=dcc55cfe9de43e8a55ca551162829c10&q=ferme-neuve\nhttp://api.openweathermap.org/data/2.5/weather?units=Imperial&APPID=dcc55cfe9de43e8a55ca551162829c10&q=roald\nhttp://api.openweathermap.org/data/2.5/weather?units=Imperial&APPID=dcc55cfe9de43e8a55ca551162829c10&q=comodoro rivadavia\nhttp://api.openweathermap.org/data/2.5/weather?units=Imperial&APPID=dcc55cfe9de43e8a55ca551162829c10&q=bambous virieux\nhttp://api.openweathermap.org/data/2.5/weather?units=Imperial&APPID=dcc55cfe9de43e8a55ca551162829c10&q=abha\nhttp://api.openweathermap.org/data/2.5/weather?units=Imperial&APPID=dcc55cfe9de43e8a55ca551162829c10&q=charters towers\nhttp://api.openweathermap.org/data/2.5/weather?units=Imperial&APPID=dcc55cfe9de43e8a55ca551162829c10&q=chateaubelair\nhttp://api.openweathermap.org/data/2.5/weather?units=Imperial&APPID=dcc55cfe9de43e8a55ca551162829c10&q=los llanos de aridane\nhttp://api.openweathermap.org/data/2.5/weather?units=Imperial&APPID=dcc55cfe9de43e8a55ca551162829c10&q=fort saint john\nhttp://api.openweathermap.org/data/2.5/weather?units=Imperial&APPID=dcc55cfe9de43e8a55ca551162829c10&q=shizunai\nhttp://api.openweathermap.org/data/2.5/weather?units=Imperial&APPID=dcc55cfe9de43e8a55ca551162829c10&q=plyussa\nhttp://api.openweathermap.org/data/2.5/weather?units=Imperial&APPID=dcc55cfe9de43e8a55ca551162829c10&q=awbari\nhttp://api.openweathermap.org/data/2.5/weather?units=Imperial&APPID=dcc55cfe9de43e8a55ca551162829c10&q=lerwick\nhttp://api.openweathermap.org/data/2.5/weather?units=Imperial&APPID=dcc55cfe9de43e8a55ca551162829c10&q=qui nhon\nhttp://api.openweathermap.org/data/2.5/weather?units=Imperial&APPID=dcc55cfe9de43e8a55ca551162829c10&q=camacha\nhttp://api.openweathermap.org/data/2.5/weather?units=Imperial&APPID=dcc55cfe9de43e8a55ca551162829c10&q=ronne\nhttp://api.openweathermap.org/data/2.5/weather?units=Imperial&APPID=dcc55cfe9de43e8a55ca551162829c10&q=joshimath\nhttp://api.openweathermap.org/data/2.5/weather?units=Imperial&APPID=dcc55cfe9de43e8a55ca551162829c10&q=tarko-sale\nhttp://api.openweathermap.org/data/2.5/weather?units=Imperial&APPID=dcc55cfe9de43e8a55ca551162829c10&q=vallenar\nhttp://api.openweathermap.org/data/2.5/weather?units=Imperial&APPID=dcc55cfe9de43e8a55ca551162829c10&q=pinar del rio\nhttp://api.openweathermap.org/data/2.5/weather?units=Imperial&APPID=dcc55cfe9de43e8a55ca551162829c10&q=aksarka\nhttp://api.openweathermap.org/data/2.5/weather?units=Imperial&APPID=dcc55cfe9de43e8a55ca551162829c10&q=kismayo\nhttp://api.openweathermap.org/data/2.5/weather?units=Imperial&APPID=dcc55cfe9de43e8a55ca551162829c10&q=ponta delgada\nhttp://api.openweathermap.org/data/2.5/weather?units=Imperial&APPID=dcc55cfe9de43e8a55ca551162829c10&q=aksu\nhttp://api.openweathermap.org/data/2.5/weather?units=Imperial&APPID=dcc55cfe9de43e8a55ca551162829c10&q=glenwood springs\nhttp://api.openweathermap.org/data/2.5/weather?units=Imperial&APPID=dcc55cfe9de43e8a55ca551162829c10&q=belmonte\nhttp://api.openweathermap.org/data/2.5/weather?units=Imperial&APPID=dcc55cfe9de43e8a55ca551162829c10&q=moissala\nhttp://api.openweathermap.org/data/2.5/weather?units=Imperial&APPID=dcc55cfe9de43e8a55ca551162829c10&q=nouadhibou\nhttp://api.openweathermap.org/data/2.5/weather?units=Imperial&APPID=dcc55cfe9de43e8a55ca551162829c10&q=belen\nhttp://api.openweathermap.org/data/2.5/weather?units=Imperial&APPID=dcc55cfe9de43e8a55ca551162829c10&q=chekhov\nhttp://api.openweathermap.org/data/2.5/weather?units=Imperial&APPID=dcc55cfe9de43e8a55ca551162829c10&q=alekseyevsk\nhttp://api.openweathermap.org/data/2.5/weather?units=Imperial&APPID=dcc55cfe9de43e8a55ca551162829c10&q=boddam\nhttp://api.openweathermap.org/data/2.5/weather?units=Imperial&APPID=dcc55cfe9de43e8a55ca551162829c10&q=andenes\nhttp://api.openweathermap.org/data/2.5/weather?units=Imperial&APPID=dcc55cfe9de43e8a55ca551162829c10&q=oriximina\nhttp://api.openweathermap.org/data/2.5/weather?units=Imperial&APPID=dcc55cfe9de43e8a55ca551162829c10&q=lagoa\nhttp://api.openweathermap.org/data/2.5/weather?units=Imperial&APPID=dcc55cfe9de43e8a55ca551162829c10&q=ghatanji\nhttp://api.openweathermap.org/data/2.5/weather?units=Imperial&APPID=dcc55cfe9de43e8a55ca551162829c10&q=goma\nhttp://api.openweathermap.org/data/2.5/weather?units=Imperial&APPID=dcc55cfe9de43e8a55ca551162829c10&q=balagansk\nhttp://api.openweathermap.org/data/2.5/weather?units=Imperial&APPID=dcc55cfe9de43e8a55ca551162829c10&q=prince rupert\nhttp://api.openweathermap.org/data/2.5/weather?units=Imperial&APPID=dcc55cfe9de43e8a55ca551162829c10&q=tateyama\nhttp://api.openweathermap.org/data/2.5/weather?units=Imperial&APPID=dcc55cfe9de43e8a55ca551162829c10&q=ler\nhttp://api.openweathermap.org/data/2.5/weather?units=Imperial&APPID=dcc55cfe9de43e8a55ca551162829c10&q=akcaabat\nhttp://api.openweathermap.org/data/2.5/weather?units=Imperial&APPID=dcc55cfe9de43e8a55ca551162829c10&q=galeana\nhttp://api.openweathermap.org/data/2.5/weather?units=Imperial&APPID=dcc55cfe9de43e8a55ca551162829c10&q=sao joao da barra\nhttp://api.openweathermap.org/data/2.5/weather?units=Imperial&APPID=dcc55cfe9de43e8a55ca551162829c10&q=roma\nhttp://api.openweathermap.org/data/2.5/weather?units=Imperial&APPID=dcc55cfe9de43e8a55ca551162829c10&q=paita\nhttp://api.openweathermap.org/data/2.5/weather?units=Imperial&APPID=dcc55cfe9de43e8a55ca551162829c10&q=attawapiskat\nhttp://api.openweathermap.org/data/2.5/weather?units=Imperial&APPID=dcc55cfe9de43e8a55ca551162829c10&q=kegayli\nhttp://api.openweathermap.org/data/2.5/weather?units=Imperial&APPID=dcc55cfe9de43e8a55ca551162829c10&q=wenling\nhttp://api.openweathermap.org/data/2.5/weather?units=Imperial&APPID=dcc55cfe9de43e8a55ca551162829c10&q=kirovsk\nhttp://api.openweathermap.org/data/2.5/weather?units=Imperial&APPID=dcc55cfe9de43e8a55ca551162829c10&q=bambanglipuro\nhttp://api.openweathermap.org/data/2.5/weather?units=Imperial&APPID=dcc55cfe9de43e8a55ca551162829c10&q=auki\nhttp://api.openweathermap.org/data/2.5/weather?units=Imperial&APPID=dcc55cfe9de43e8a55ca551162829c10&q=uruguaiana\nhttp://api.openweathermap.org/data/2.5/weather?units=Imperial&APPID=dcc55cfe9de43e8a55ca551162829c10&q=sabha\nhttp://api.openweathermap.org/data/2.5/weather?units=Imperial&APPID=dcc55cfe9de43e8a55ca551162829c10&q=marang\nhttp://api.openweathermap.org/data/2.5/weather?units=Imperial&APPID=dcc55cfe9de43e8a55ca551162829c10&q=kieta\nhttp://api.openweathermap.org/data/2.5/weather?units=Imperial&APPID=dcc55cfe9de43e8a55ca551162829c10&q=dustlik\nhttp://api.openweathermap.org/data/2.5/weather?units=Imperial&APPID=dcc55cfe9de43e8a55ca551162829c10&q=calvinia\nhttp://api.openweathermap.org/data/2.5/weather?units=Imperial&APPID=dcc55cfe9de43e8a55ca551162829c10&q=colesberg\nhttp://api.openweathermap.org/data/2.5/weather?units=Imperial&APPID=dcc55cfe9de43e8a55ca551162829c10&q=gladstone\nhttp://api.openweathermap.org/data/2.5/weather?units=Imperial&APPID=dcc55cfe9de43e8a55ca551162829c10&q=asmar\nhttp://api.openweathermap.org/data/2.5/weather?units=Imperial&APPID=dcc55cfe9de43e8a55ca551162829c10&q=kuryk\nhttp://api.openweathermap.org/data/2.5/weather?units=Imperial&APPID=dcc55cfe9de43e8a55ca551162829c10&q=labuan\nhttp://api.openweathermap.org/data/2.5/weather?units=Imperial&APPID=dcc55cfe9de43e8a55ca551162829c10&q=porto novo\nhttp://api.openweathermap.org/data/2.5/weather?units=Imperial&APPID=dcc55cfe9de43e8a55ca551162829c10&q=walvis bay\nhttp://api.openweathermap.org/data/2.5/weather?units=Imperial&APPID=dcc55cfe9de43e8a55ca551162829c10&q=kabinda\nhttp://api.openweathermap.org/data/2.5/weather?units=Imperial&APPID=dcc55cfe9de43e8a55ca551162829c10&q=hashtrud\nhttp://api.openweathermap.org/data/2.5/weather?units=Imperial&APPID=dcc55cfe9de43e8a55ca551162829c10&q=larsnes\nhttp://api.openweathermap.org/data/2.5/weather?units=Imperial&APPID=dcc55cfe9de43e8a55ca551162829c10&q=stryn\nhttp://api.openweathermap.org/data/2.5/weather?units=Imperial&APPID=dcc55cfe9de43e8a55ca551162829c10&q=el badari\nhttp://api.openweathermap.org/data/2.5/weather?units=Imperial&APPID=dcc55cfe9de43e8a55ca551162829c10&q=miranda\nhttp://api.openweathermap.org/data/2.5/weather?units=Imperial&APPID=dcc55cfe9de43e8a55ca551162829c10&q=pyapon\nhttp://api.openweathermap.org/data/2.5/weather?units=Imperial&APPID=dcc55cfe9de43e8a55ca551162829c10&q=bandrele\nhttp://api.openweathermap.org/data/2.5/weather?units=Imperial&APPID=dcc55cfe9de43e8a55ca551162829c10&q=bin qirdan\nhttp://api.openweathermap.org/data/2.5/weather?units=Imperial&APPID=dcc55cfe9de43e8a55ca551162829c10&q=alofi\nhttp://api.openweathermap.org/data/2.5/weather?units=Imperial&APPID=dcc55cfe9de43e8a55ca551162829c10&q=eenhana\nhttp://api.openweathermap.org/data/2.5/weather?units=Imperial&APPID=dcc55cfe9de43e8a55ca551162829c10&q=hailin\n"
     ]
    }
   ],
   "source": [
    "# Loop through all the cities in our list.\n",
    "for i, city in enumerate(cities):\n",
    "\n",
    "    # Group cities in sets of 50 for logging purposes.\n",
    "    if (i % 50 == 0 and i >= 50):\n",
    "        set_count += 1\n",
    "        record_count = 1\n",
    "    # Create endpoint URL with each city.\n",
    "    city_url = url + \"&q=\" + cities[i]\n",
    "    print(city_url)"
   ]
  },
  {
   "cell_type": "code",
   "execution_count": null,
   "metadata": {},
   "outputs": [],
   "source": []
  }
 ]
}