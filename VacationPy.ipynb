{
 "metadata": {
  "language_info": {
   "codemirror_mode": {
    "name": "ipython",
    "version": 3
   },
   "file_extension": ".py",
   "mimetype": "text/x-python",
   "name": "python",
   "nbconvert_exporter": "python",
   "pygments_lexer": "ipython3",
   "version": "3.7.7-final"
  },
  "orig_nbformat": 2,
  "kernelspec": {
   "name": "pythondata",
   "display_name": "PythonData"
  }
 },
 "nbformat": 4,
 "nbformat_minor": 2,
 "cells": [
  {
   "cell_type": "code",
   "execution_count": 1,
   "metadata": {},
   "outputs": [],
   "source": [
    "# Import the dependencies.\n",
    "import pandas as pd\n",
    "import gmaps\n",
    "import requests\n",
    "# Import the API key.\n",
    "from config import g_key"
   ]
  },
  {
   "cell_type": "code",
   "execution_count": 2,
   "metadata": {},
   "outputs": [
    {
     "output_type": "execute_result",
     "data": {
      "text/plain": [
       "   City_ID            City Country                 Date    Lat     Lng  \\\n",
       "0        0  Saint-Philippe      RE  2020-11-24 23:20:12 -21.36   55.77   \n",
       "1        1      Hambantota      LK  2020-11-24 23:23:58   6.12   81.12   \n",
       "2        2        Vilyuysk      RU  2020-11-24 23:23:58  63.76  121.62   \n",
       "3        3    Punta Arenas      CL  2020-11-24 23:23:13 -53.15  -70.92   \n",
       "4        4  Kaiserslautern      DE  2020-11-24 23:23:58  49.45    7.75   \n",
       "\n",
       "   Max Temp  Humidity  Cloudiness  Wind Speed  \n",
       "0     71.60        60          92        4.70  \n",
       "1     78.42        80         100       14.81  \n",
       "2     -0.78        91         100        8.93  \n",
       "3     48.20        66          75       16.11  \n",
       "4     41.00       100          90        2.30  "
      ],
      "text/html": "<div>\n<style scoped>\n    .dataframe tbody tr th:only-of-type {\n        vertical-align: middle;\n    }\n\n    .dataframe tbody tr th {\n        vertical-align: top;\n    }\n\n    .dataframe thead th {\n        text-align: right;\n    }\n</style>\n<table border=\"1\" class=\"dataframe\">\n  <thead>\n    <tr style=\"text-align: right;\">\n      <th></th>\n      <th>City_ID</th>\n      <th>City</th>\n      <th>Country</th>\n      <th>Date</th>\n      <th>Lat</th>\n      <th>Lng</th>\n      <th>Max Temp</th>\n      <th>Humidity</th>\n      <th>Cloudiness</th>\n      <th>Wind Speed</th>\n    </tr>\n  </thead>\n  <tbody>\n    <tr>\n      <th>0</th>\n      <td>0</td>\n      <td>Saint-Philippe</td>\n      <td>RE</td>\n      <td>2020-11-24 23:20:12</td>\n      <td>-21.36</td>\n      <td>55.77</td>\n      <td>71.60</td>\n      <td>60</td>\n      <td>92</td>\n      <td>4.70</td>\n    </tr>\n    <tr>\n      <th>1</th>\n      <td>1</td>\n      <td>Hambantota</td>\n      <td>LK</td>\n      <td>2020-11-24 23:23:58</td>\n      <td>6.12</td>\n      <td>81.12</td>\n      <td>78.42</td>\n      <td>80</td>\n      <td>100</td>\n      <td>14.81</td>\n    </tr>\n    <tr>\n      <th>2</th>\n      <td>2</td>\n      <td>Vilyuysk</td>\n      <td>RU</td>\n      <td>2020-11-24 23:23:58</td>\n      <td>63.76</td>\n      <td>121.62</td>\n      <td>-0.78</td>\n      <td>91</td>\n      <td>100</td>\n      <td>8.93</td>\n    </tr>\n    <tr>\n      <th>3</th>\n      <td>3</td>\n      <td>Punta Arenas</td>\n      <td>CL</td>\n      <td>2020-11-24 23:23:13</td>\n      <td>-53.15</td>\n      <td>-70.92</td>\n      <td>48.20</td>\n      <td>66</td>\n      <td>75</td>\n      <td>16.11</td>\n    </tr>\n    <tr>\n      <th>4</th>\n      <td>4</td>\n      <td>Kaiserslautern</td>\n      <td>DE</td>\n      <td>2020-11-24 23:23:58</td>\n      <td>49.45</td>\n      <td>7.75</td>\n      <td>41.00</td>\n      <td>100</td>\n      <td>90</td>\n      <td>2.30</td>\n    </tr>\n  </tbody>\n</table>\n</div>"
     },
     "metadata": {},
     "execution_count": 2
    }
   ],
   "source": [
    "# Store the CSV you saved created in part one into a DataFrame.\n",
    "city_data_df = pd.read_csv(\"weather_data/cities.csv\")\n",
    "city_data_df.head()"
   ]
  },
  {
   "cell_type": "code",
   "execution_count": 3,
   "metadata": {},
   "outputs": [
    {
     "output_type": "execute_result",
     "data": {
      "text/plain": [
       "City_ID         int64\n",
       "City           object\n",
       "Country        object\n",
       "Date           object\n",
       "Lat           float64\n",
       "Lng           float64\n",
       "Max Temp      float64\n",
       "Humidity        int64\n",
       "Cloudiness      int64\n",
       "Wind Speed    float64\n",
       "dtype: object"
      ]
     },
     "metadata": {},
     "execution_count": 3
    }
   ],
   "source": [
    "city_data_df.dtypes"
   ]
  },
  {
   "cell_type": "code",
   "execution_count": 4,
   "metadata": {},
   "outputs": [],
   "source": [
    "# Configure gmaps to use your Google API key.\n",
    "gmaps.configure(api_key=g_key)"
   ]
  },
  {
   "cell_type": "code",
   "execution_count": 8,
   "metadata": {},
   "outputs": [
    {
     "output_type": "display_data",
     "data": {
      "text/plain": "Figure(layout=FigureLayout(height='420px'))",
      "application/vnd.jupyter.widget-view+json": {
       "version_major": 2,
       "version_minor": 0,
       "model_id": "2c22abfde811473e913ff906fdf41864"
      }
     },
     "metadata": {}
    }
   ],
   "source": [
    "# Heatmap of temperature\n",
    "# Get the latitude and longitude.\n",
    "locations = city_data_df[[\"Lat\", \"Lng\"]]\n",
    "# Get the maximum temperature.\n",
    "max_temp = city_data_df[\"Max Temp\"]\n",
    "temps = [max(temp, 0) for temp in max_temp]\n",
    "# Assign the figure variable.\n",
    "fig = gmaps.figure(center=(30.0, 31.0), zoom_level=1.5)\n",
    "# Assign the heatmap variable.\n",
    "heat_layer = gmaps.heatmap_layer(locations, \n",
    "                                weights=temps, dissipating=False, \n",
    "                                max_intensity=300, point_radius=4)\n",
    "# Add the heatmap layer.\n",
    "fig.add_layer(heat_layer)\n",
    "# Call the figure to plot the data.\n",
    "fig"
   ]
  },
  {
   "cell_type": "code",
   "execution_count": 9,
   "metadata": {},
   "outputs": [
    {
     "output_type": "display_data",
     "data": {
      "text/plain": "Figure(layout=FigureLayout(height='420px'))",
      "application/vnd.jupyter.widget-view+json": {
       "version_major": 2,
       "version_minor": 0,
       "model_id": "70255de10ee14ecd9a778b66bea8d70e"
      }
     },
     "metadata": {}
    }
   ],
   "source": [
    "# Heatmap of percent humidity\n",
    "locations = city_data_df[[\"Lat\", \"Lng\"]]\n",
    "humidity = city_data_df[\"Humidity\"]\n",
    "fig = gmaps.figure(center=(30.0, 31.0), zoom_level=1.5)\n",
    "heat_layer = gmaps.heatmap_layer(locations, weights=humidity, dissipating=False, max_intensity=300, point_radius=4)\n",
    "\n",
    "fig.add_layer(heat_layer)\n",
    "# Call the figure to plot the data.\n",
    "fig"
   ]
  },
  {
   "cell_type": "code",
   "execution_count": 10,
   "metadata": {},
   "outputs": [
    {
     "output_type": "display_data",
     "data": {
      "text/plain": "Figure(layout=FigureLayout(height='420px'))",
      "application/vnd.jupyter.widget-view+json": {
       "version_major": 2,
       "version_minor": 0,
       "model_id": "aabd0d3116374d5595fbdf1b09c15476"
      }
     },
     "metadata": {}
    }
   ],
   "source": [
    "# Heatmap of percent cloudiness\n",
    "locations = city_data_df[[\"Lat\", \"Lng\"]]\n",
    "clouds = city_data_df[\"Cloudiness\"]\n",
    "fig = gmaps.figure(center=(30.0, 31.0), zoom_level=1.5)\n",
    "heat_layer = gmaps.heatmap_layer(locations, weights=clouds, dissipating=False, max_intensity=300, point_radius=4)\n",
    "\n",
    "fig.add_layer(heat_layer)\n",
    "# Call the figure to plot the data.\n",
    "fig"
   ]
  },
  {
   "cell_type": "code",
   "execution_count": 11,
   "metadata": {},
   "outputs": [
    {
     "output_type": "display_data",
     "data": {
      "text/plain": "Figure(layout=FigureLayout(height='420px'))",
      "application/vnd.jupyter.widget-view+json": {
       "version_major": 2,
       "version_minor": 0,
       "model_id": "a711a7f5ad7544b594805bb72c880c45"
      }
     },
     "metadata": {}
    }
   ],
   "source": [
    "# Heatmap of percent wind speed\n",
    "locations = city_data_df[[\"Lat\", \"Lng\"]]\n",
    "wind = city_data_df[\"Wind Speed\"]\n",
    "fig = gmaps.figure(center=(30.0, 31.0), zoom_level=1.5)\n",
    "heat_layer = gmaps.heatmap_layer(locations, weights=wind, dissipating=False, max_intensity=300, point_radius=4)\n",
    "\n",
    "fig.add_layer(heat_layer)\n",
    "# Call the figure to plot the data.\n",
    "fig"
   ]
  },
  {
   "cell_type": "code",
   "execution_count": 13,
   "metadata": {},
   "outputs": [],
   "source": [
    "# Ask the customer to add a minimum and maximum temperature value.\n",
    "min_temp = float(input(\"What is the minimum temperature you would like for your trip? \"))\n",
    "max_temp = float(input(\"What is the maximum temperature you would like for your trip? \"))"
   ]
  },
  {
   "cell_type": "code",
   "execution_count": 32,
   "metadata": {},
   "outputs": [
    {
     "output_type": "execute_result",
     "data": {
      "text/plain": [
       "    City_ID            City Country                 Date    Lat     Lng  \\\n",
       "1         1      Hambantota      LK  2020-11-24 23:23:58   6.12   81.12   \n",
       "9         9          Avarua      CK  2020-11-24 23:23:59 -21.21 -159.78   \n",
       "25       25      Balikpapan      ID  2020-11-24 23:24:00  -1.27  116.83   \n",
       "27       27      Butaritari      KI  2020-11-24 23:24:00   3.07  172.79   \n",
       "29       29  Nambucca Heads      AU  2020-11-24 23:24:00 -30.65  153.00   \n",
       "31       31           Vaini      TO  2020-11-24 23:24:01 -21.20 -175.20   \n",
       "39       39        Lorengau      PG  2020-11-24 23:24:01  -2.02  147.27   \n",
       "40       40    San Patricio      US  2020-11-24 23:20:34  28.02  -97.52   \n",
       "42       42          Touros      BR  2020-11-24 23:24:01  -5.20  -35.46   \n",
       "47       47           Tabou      CI  2020-11-24 23:24:02   4.42   -7.35   \n",
       "\n",
       "    Max Temp  Humidity  Cloudiness  Wind Speed  \n",
       "1      78.42        80         100       14.81  \n",
       "9      78.80        83          94        5.82  \n",
       "25     77.00       100          20        2.24  \n",
       "27     81.90        81          28       18.50  \n",
       "29     78.01        60          90       13.87  \n",
       "31     82.40        74          75        9.17  \n",
       "39     85.10        67          87        6.80  \n",
       "40     80.60        65          20       27.51  \n",
       "42     78.80        78          40        8.05  \n",
       "47     78.31        87          46        7.11  "
      ],
      "text/html": "<div>\n<style scoped>\n    .dataframe tbody tr th:only-of-type {\n        vertical-align: middle;\n    }\n\n    .dataframe tbody tr th {\n        vertical-align: top;\n    }\n\n    .dataframe thead th {\n        text-align: right;\n    }\n</style>\n<table border=\"1\" class=\"dataframe\">\n  <thead>\n    <tr style=\"text-align: right;\">\n      <th></th>\n      <th>City_ID</th>\n      <th>City</th>\n      <th>Country</th>\n      <th>Date</th>\n      <th>Lat</th>\n      <th>Lng</th>\n      <th>Max Temp</th>\n      <th>Humidity</th>\n      <th>Cloudiness</th>\n      <th>Wind Speed</th>\n    </tr>\n  </thead>\n  <tbody>\n    <tr>\n      <th>1</th>\n      <td>1</td>\n      <td>Hambantota</td>\n      <td>LK</td>\n      <td>2020-11-24 23:23:58</td>\n      <td>6.12</td>\n      <td>81.12</td>\n      <td>78.42</td>\n      <td>80</td>\n      <td>100</td>\n      <td>14.81</td>\n    </tr>\n    <tr>\n      <th>9</th>\n      <td>9</td>\n      <td>Avarua</td>\n      <td>CK</td>\n      <td>2020-11-24 23:23:59</td>\n      <td>-21.21</td>\n      <td>-159.78</td>\n      <td>78.80</td>\n      <td>83</td>\n      <td>94</td>\n      <td>5.82</td>\n    </tr>\n    <tr>\n      <th>25</th>\n      <td>25</td>\n      <td>Balikpapan</td>\n      <td>ID</td>\n      <td>2020-11-24 23:24:00</td>\n      <td>-1.27</td>\n      <td>116.83</td>\n      <td>77.00</td>\n      <td>100</td>\n      <td>20</td>\n      <td>2.24</td>\n    </tr>\n    <tr>\n      <th>27</th>\n      <td>27</td>\n      <td>Butaritari</td>\n      <td>KI</td>\n      <td>2020-11-24 23:24:00</td>\n      <td>3.07</td>\n      <td>172.79</td>\n      <td>81.90</td>\n      <td>81</td>\n      <td>28</td>\n      <td>18.50</td>\n    </tr>\n    <tr>\n      <th>29</th>\n      <td>29</td>\n      <td>Nambucca Heads</td>\n      <td>AU</td>\n      <td>2020-11-24 23:24:00</td>\n      <td>-30.65</td>\n      <td>153.00</td>\n      <td>78.01</td>\n      <td>60</td>\n      <td>90</td>\n      <td>13.87</td>\n    </tr>\n    <tr>\n      <th>31</th>\n      <td>31</td>\n      <td>Vaini</td>\n      <td>TO</td>\n      <td>2020-11-24 23:24:01</td>\n      <td>-21.20</td>\n      <td>-175.20</td>\n      <td>82.40</td>\n      <td>74</td>\n      <td>75</td>\n      <td>9.17</td>\n    </tr>\n    <tr>\n      <th>39</th>\n      <td>39</td>\n      <td>Lorengau</td>\n      <td>PG</td>\n      <td>2020-11-24 23:24:01</td>\n      <td>-2.02</td>\n      <td>147.27</td>\n      <td>85.10</td>\n      <td>67</td>\n      <td>87</td>\n      <td>6.80</td>\n    </tr>\n    <tr>\n      <th>40</th>\n      <td>40</td>\n      <td>San Patricio</td>\n      <td>US</td>\n      <td>2020-11-24 23:20:34</td>\n      <td>28.02</td>\n      <td>-97.52</td>\n      <td>80.60</td>\n      <td>65</td>\n      <td>20</td>\n      <td>27.51</td>\n    </tr>\n    <tr>\n      <th>42</th>\n      <td>42</td>\n      <td>Touros</td>\n      <td>BR</td>\n      <td>2020-11-24 23:24:01</td>\n      <td>-5.20</td>\n      <td>-35.46</td>\n      <td>78.80</td>\n      <td>78</td>\n      <td>40</td>\n      <td>8.05</td>\n    </tr>\n    <tr>\n      <th>47</th>\n      <td>47</td>\n      <td>Tabou</td>\n      <td>CI</td>\n      <td>2020-11-24 23:24:02</td>\n      <td>4.42</td>\n      <td>-7.35</td>\n      <td>78.31</td>\n      <td>87</td>\n      <td>46</td>\n      <td>7.11</td>\n    </tr>\n  </tbody>\n</table>\n</div>"
     },
     "metadata": {},
     "execution_count": 32
    }
   ],
   "source": [
    "# Filter the dataset to find the cities that fit the criteria.\n",
    "preferred_cities_df = city_data_df.loc[(city_data_df[\"Max Temp\"] <= max_temp) & \n",
    "                                        (city_data_df[\"Max Temp\"] >= min_temp)]\n",
    "preferred_cities_df = preferred_cities_df.fillna(\"NAM\")                                   \n",
    "preferred_cities_df.head(10)\n"
   ]
  },
  {
   "cell_type": "code",
   "execution_count": 33,
   "metadata": {},
   "outputs": [
    {
     "output_type": "execute_result",
     "data": {
      "text/plain": [
       "City_ID       156\n",
       "City          156\n",
       "Country       156\n",
       "Date          156\n",
       "Lat           156\n",
       "Lng           156\n",
       "Max Temp      156\n",
       "Humidity      156\n",
       "Cloudiness    156\n",
       "Wind Speed    156\n",
       "dtype: int64"
      ]
     },
     "metadata": {},
     "execution_count": 33
    }
   ],
   "source": [
    "preferred_cities_df.count()"
   ]
  },
  {
   "cell_type": "code",
   "execution_count": 37,
   "metadata": {},
   "outputs": [
    {
     "output_type": "execute_result",
     "data": {
      "text/plain": [
       "              City Country  Max Temp    Lat     Lng Hotel Name\n",
       "1       Hambantota      LK     78.42   6.12   81.12           \n",
       "9           Avarua      CK     78.80 -21.21 -159.78           \n",
       "25      Balikpapan      ID     77.00  -1.27  116.83           \n",
       "27      Butaritari      KI     81.90   3.07  172.79           \n",
       "29  Nambucca Heads      AU     78.01 -30.65  153.00           \n",
       "31           Vaini      TO     82.40 -21.20 -175.20           \n",
       "39        Lorengau      PG     85.10  -2.02  147.27           \n",
       "40    San Patricio      US     80.60  28.02  -97.52           \n",
       "42          Touros      BR     78.80  -5.20  -35.46           \n",
       "47           Tabou      CI     78.31   4.42   -7.35           "
      ],
      "text/html": "<div>\n<style scoped>\n    .dataframe tbody tr th:only-of-type {\n        vertical-align: middle;\n    }\n\n    .dataframe tbody tr th {\n        vertical-align: top;\n    }\n\n    .dataframe thead th {\n        text-align: right;\n    }\n</style>\n<table border=\"1\" class=\"dataframe\">\n  <thead>\n    <tr style=\"text-align: right;\">\n      <th></th>\n      <th>City</th>\n      <th>Country</th>\n      <th>Max Temp</th>\n      <th>Lat</th>\n      <th>Lng</th>\n      <th>Hotel Name</th>\n    </tr>\n  </thead>\n  <tbody>\n    <tr>\n      <th>1</th>\n      <td>Hambantota</td>\n      <td>LK</td>\n      <td>78.42</td>\n      <td>6.12</td>\n      <td>81.12</td>\n      <td></td>\n    </tr>\n    <tr>\n      <th>9</th>\n      <td>Avarua</td>\n      <td>CK</td>\n      <td>78.80</td>\n      <td>-21.21</td>\n      <td>-159.78</td>\n      <td></td>\n    </tr>\n    <tr>\n      <th>25</th>\n      <td>Balikpapan</td>\n      <td>ID</td>\n      <td>77.00</td>\n      <td>-1.27</td>\n      <td>116.83</td>\n      <td></td>\n    </tr>\n    <tr>\n      <th>27</th>\n      <td>Butaritari</td>\n      <td>KI</td>\n      <td>81.90</td>\n      <td>3.07</td>\n      <td>172.79</td>\n      <td></td>\n    </tr>\n    <tr>\n      <th>29</th>\n      <td>Nambucca Heads</td>\n      <td>AU</td>\n      <td>78.01</td>\n      <td>-30.65</td>\n      <td>153.00</td>\n      <td></td>\n    </tr>\n    <tr>\n      <th>31</th>\n      <td>Vaini</td>\n      <td>TO</td>\n      <td>82.40</td>\n      <td>-21.20</td>\n      <td>-175.20</td>\n      <td></td>\n    </tr>\n    <tr>\n      <th>39</th>\n      <td>Lorengau</td>\n      <td>PG</td>\n      <td>85.10</td>\n      <td>-2.02</td>\n      <td>147.27</td>\n      <td></td>\n    </tr>\n    <tr>\n      <th>40</th>\n      <td>San Patricio</td>\n      <td>US</td>\n      <td>80.60</td>\n      <td>28.02</td>\n      <td>-97.52</td>\n      <td></td>\n    </tr>\n    <tr>\n      <th>42</th>\n      <td>Touros</td>\n      <td>BR</td>\n      <td>78.80</td>\n      <td>-5.20</td>\n      <td>-35.46</td>\n      <td></td>\n    </tr>\n    <tr>\n      <th>47</th>\n      <td>Tabou</td>\n      <td>CI</td>\n      <td>78.31</td>\n      <td>4.42</td>\n      <td>-7.35</td>\n      <td></td>\n    </tr>\n  </tbody>\n</table>\n</div>"
     },
     "metadata": {},
     "execution_count": 37
    }
   ],
   "source": [
    "# Create DataFrame called hotel_df to store hotel names along with city, country, max temp, and coordinates.\n",
    "hotel_df = preferred_cities_df[[\"City\", \"Country\", \"Max Temp\", \"Lat\", \"Lng\"]].copy()\n",
    "hotel_df[\"Hotel Name\"] = \"\"\n",
    "hotel_df.head(10)"
   ]
  },
  {
   "cell_type": "code",
   "execution_count": 38,
   "metadata": {},
   "outputs": [],
   "source": [
    "# Set parameters to search for a hotel.\n",
    "params = {\n",
    "    \"radius\": 5000,\n",
    "    \"type\": \"lodging\",\n",
    "    \"key\": g_key\n",
    "}"
   ]
  },
  {
   "cell_type": "code",
   "execution_count": 48,
   "metadata": {},
   "outputs": [
    {
     "output_type": "stream",
     "name": "stdout",
     "text": [
      "Hotel not found... skipping.\n",
      "Hotel not found... skipping.\n",
      "Hotel not found... skipping.\n",
      "Hotel not found... skipping.\n",
      "Hotel not found... skipping.\n",
      "Hotel not found... skipping.\n",
      "Hotel not found... skipping.\n",
      "Hotel not found... skipping.\n"
     ]
    }
   ],
   "source": [
    "# Iterate through the DataFrame.\n",
    "for index, row in hotel_df.iterrows():\n",
    "    # Get the latitude and longitude.\n",
    "    lat = row[\"Lat\"]\n",
    "    lng = row[\"Lng\"]\n",
    "    # Add the latitude and longitude to location key for the params dictionary.\n",
    "    params[\"location\"] = f\"{lat},{lng}\"\n",
    "    # Use the search term: \"lodging\" and our latitude and longitude.\n",
    "    base_url = \"https://maps.googleapis.com/maps/api/place/nearbysearch/json\"\n",
    "    # Make request and get the JSON data from the search.\n",
    "    hotels = requests.get(base_url, params=params).json()\n",
    "    try:\n",
    "        hotel_df.loc[index, \"Hotel Name\"] = hotels[\"results\"][0][\"name\"]\n",
    "    except (IndexError):\n",
    "        print(\"Hotel not found... skipping.\")"
   ]
  },
  {
   "cell_type": "code",
   "execution_count": 49,
   "metadata": {},
   "outputs": [
    {
     "output_type": "execute_result",
     "data": {
      "text/plain": [
       "               City Country  Max Temp    Lat     Lng  \\\n",
       "1        Hambantota      LK     78.42   6.12   81.12   \n",
       "9            Avarua      CK     78.80 -21.21 -159.78   \n",
       "25       Balikpapan      ID     77.00  -1.27  116.83   \n",
       "27       Butaritari      KI     81.90   3.07  172.79   \n",
       "29   Nambucca Heads      AU     78.01 -30.65  153.00   \n",
       "..              ...     ...       ...    ...     ...   \n",
       "557          Allada      BJ     84.20   6.67    2.15   \n",
       "559            Tari      NG     79.84  12.41    4.49   \n",
       "560  Port Macquarie      AU     78.01 -31.43  152.92   \n",
       "567        Atabayan      PH     78.30  10.68  122.42   \n",
       "569          Bonthe      SL     79.32   7.53  -12.51   \n",
       "\n",
       "                           Hotel Name  \n",
       "1                         Bungalow 63  \n",
       "9                        Paradise Inn  \n",
       "25       Grand Jatra Hotel Balikpapan  \n",
       "27                 Isles Sunset Lodge  \n",
       "29   Marcel Towers Holiday Apartments  \n",
       "..                                ...  \n",
       "557           Royaume hotel d' Allada  \n",
       "559                                    \n",
       "560             Rydges Port Macquarie  \n",
       "567               Bearland Residences  \n",
       "569            Bonthe Holiday Village  \n",
       "\n",
       "[156 rows x 6 columns]"
      ],
      "text/html": "<div>\n<style scoped>\n    .dataframe tbody tr th:only-of-type {\n        vertical-align: middle;\n    }\n\n    .dataframe tbody tr th {\n        vertical-align: top;\n    }\n\n    .dataframe thead th {\n        text-align: right;\n    }\n</style>\n<table border=\"1\" class=\"dataframe\">\n  <thead>\n    <tr style=\"text-align: right;\">\n      <th></th>\n      <th>City</th>\n      <th>Country</th>\n      <th>Max Temp</th>\n      <th>Lat</th>\n      <th>Lng</th>\n      <th>Hotel Name</th>\n    </tr>\n  </thead>\n  <tbody>\n    <tr>\n      <th>1</th>\n      <td>Hambantota</td>\n      <td>LK</td>\n      <td>78.42</td>\n      <td>6.12</td>\n      <td>81.12</td>\n      <td>Bungalow 63</td>\n    </tr>\n    <tr>\n      <th>9</th>\n      <td>Avarua</td>\n      <td>CK</td>\n      <td>78.80</td>\n      <td>-21.21</td>\n      <td>-159.78</td>\n      <td>Paradise Inn</td>\n    </tr>\n    <tr>\n      <th>25</th>\n      <td>Balikpapan</td>\n      <td>ID</td>\n      <td>77.00</td>\n      <td>-1.27</td>\n      <td>116.83</td>\n      <td>Grand Jatra Hotel Balikpapan</td>\n    </tr>\n    <tr>\n      <th>27</th>\n      <td>Butaritari</td>\n      <td>KI</td>\n      <td>81.90</td>\n      <td>3.07</td>\n      <td>172.79</td>\n      <td>Isles Sunset Lodge</td>\n    </tr>\n    <tr>\n      <th>29</th>\n      <td>Nambucca Heads</td>\n      <td>AU</td>\n      <td>78.01</td>\n      <td>-30.65</td>\n      <td>153.00</td>\n      <td>Marcel Towers Holiday Apartments</td>\n    </tr>\n    <tr>\n      <th>...</th>\n      <td>...</td>\n      <td>...</td>\n      <td>...</td>\n      <td>...</td>\n      <td>...</td>\n      <td>...</td>\n    </tr>\n    <tr>\n      <th>557</th>\n      <td>Allada</td>\n      <td>BJ</td>\n      <td>84.20</td>\n      <td>6.67</td>\n      <td>2.15</td>\n      <td>Royaume hotel d' Allada</td>\n    </tr>\n    <tr>\n      <th>559</th>\n      <td>Tari</td>\n      <td>NG</td>\n      <td>79.84</td>\n      <td>12.41</td>\n      <td>4.49</td>\n      <td></td>\n    </tr>\n    <tr>\n      <th>560</th>\n      <td>Port Macquarie</td>\n      <td>AU</td>\n      <td>78.01</td>\n      <td>-31.43</td>\n      <td>152.92</td>\n      <td>Rydges Port Macquarie</td>\n    </tr>\n    <tr>\n      <th>567</th>\n      <td>Atabayan</td>\n      <td>PH</td>\n      <td>78.30</td>\n      <td>10.68</td>\n      <td>122.42</td>\n      <td>Bearland Residences</td>\n    </tr>\n    <tr>\n      <th>569</th>\n      <td>Bonthe</td>\n      <td>SL</td>\n      <td>79.32</td>\n      <td>7.53</td>\n      <td>-12.51</td>\n      <td>Bonthe Holiday Village</td>\n    </tr>\n  </tbody>\n</table>\n<p>156 rows × 6 columns</p>\n</div>"
     },
     "metadata": {},
     "execution_count": 49
    }
   ],
   "source": [
    "hotel_df"
   ]
  },
  {
   "cell_type": "code",
   "execution_count": 54,
   "metadata": {},
   "outputs": [
    {
     "output_type": "display_data",
     "data": {
      "text/plain": "Figure(layout=FigureLayout(height='420px'))",
      "application/vnd.jupyter.widget-view+json": {
       "version_major": 2,
       "version_minor": 0,
       "model_id": "fe61acc9e5e8449fa051f4a4b7304567"
      }
     },
     "metadata": {}
    }
   ],
   "source": [
    "info_box_template = \"\"\"\n",
    "<dl>\n",
    "<dt>Hotel Name</dt><dd>{Hotel Name}</dd>\n",
    "<dt>City</dt><dd>{City}</dd>\n",
    "<dt>Country</dt><dd>{Country}</dd>\n",
    "<dt>Max Temp</dt><dd>{Max Temp} °F</dd>\n",
    "</dl>\n",
    "\"\"\"\n",
    "# Store the DataFrame Row.\n",
    "hotel_info = [info_box_template.format(**row) for index, row in hotel_df.iterrows()]\n",
    "\n",
    "# Add a heatmap of temperature for the vacation spots and a pop-up marker for each city.\n",
    "locations = hotel_df[[\"Lat\", \"Lng\"]]\n",
    "max_temp = hotel_df[\"Max Temp\"]\n",
    "fig = gmaps.figure(center=(30.0, 31.0), zoom_level=1.5)\n",
    "heat_layer = gmaps.heatmap_layer(locations, weights=max_temp,dissipating=False,\n",
    "             max_intensity=300, point_radius=4)\n",
    "marker_layer = gmaps.marker_layer(locations, info_box_content=hotel_info)\n",
    "fig.add_layer(heat_layer)\n",
    "fig.add_layer(marker_layer)\n",
    "\n",
    "# Call the figure to plot the data.\n",
    "fig\n"
   ]
  },
  {
   "cell_type": "code",
   "execution_count": null,
   "metadata": {},
   "outputs": [],
   "source": []
  }
 ]
}